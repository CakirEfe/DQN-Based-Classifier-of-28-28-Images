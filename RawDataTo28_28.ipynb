{
 "cells": [
  {
   "cell_type": "code",
   "execution_count": 1,
   "metadata": {},
   "outputs": [],
   "source": [
    "import os\n",
    "import pandas as pd\n",
    "import numpy as np\n",
    "from sklearn.preprocessing import LabelEncoder\n",
    "from tensorflow.keras.utils import to_categorical\n",
    "from sklearn.model_selection import train_test_split\n",
    "import h5py\n"
   ]
  },
  {
   "cell_type": "code",
   "execution_count": 2,
   "metadata": {},
   "outputs": [
    {
     "name": "stdout",
     "output_type": "stream",
     "text": [
      "Loaded and labeled data from all files.\n",
      "Label mapping: {'B_R': 0, 'F_B': 1, 'H_H': 2, 'K_A': 3, 'R_M': 4, 'R_U': 5, 'S_W': 6, 'V_U': 7}\n"
     ]
    }
   ],
   "source": [
    "# Define the directory where your CSV files are stored\n",
    "directory = 'C:\\\\Users\\\\Efe\\\\Desktop\\\\uOttawaEMRefinedCSV'  # Adjust this to your files' directory path\n",
    "\n",
    "all_data = pd.DataFrame()\n",
    "label_map = {}\n",
    "label_index = 0\n",
    "\n",
    "# Load data and create labels based on filenames, using only the first column of data\n",
    "for filename in os.listdir(directory):\n",
    "    if filename.endswith('.csv'):\n",
    "        filepath = os.path.join(directory, filename)\n",
    "        data = pd.read_csv(filepath, usecols=[0])  # Only load the first column\n",
    "\n",
    "        # Extract the condition part from the filename and ignore the speed\n",
    "        condition = '_'.join(filename.split('_')[:2])  # Takes only the first two parts for the condition\n",
    "        \n",
    "        if condition not in label_map:\n",
    "            label_map[condition] = label_index\n",
    "            label_index += 1\n",
    "        \n",
    "        # Assign label to data\n",
    "        data['Label'] = label_map[condition]\n",
    "        all_data = pd.concat([all_data, data], ignore_index=True)\n",
    "\n",
    "print(\"Loaded and labeled data from all files.\")\n",
    "print(\"Label mapping:\", label_map)\n"
   ]
  },
  {
   "cell_type": "code",
   "execution_count": 3,
   "metadata": {},
   "outputs": [],
   "source": [
    "# Windowing function to create 28x28 images from the data\n",
    "def create_windows(data, window_size, stride):\n",
    "    X = []\n",
    "    y = []\n",
    "    for i in range(0, len(data) - window_size, stride):\n",
    "        window = data.iloc[i:i + window_size]\n",
    "        X.append(window.drop('Label', axis=1).values)  # Extract features from window (only the first column)\n",
    "        y.append(window.iloc[-1]['Label'])  # Label for the window\n",
    "    return np.array(X), np.array(y)\n"
   ]
  },
  {
   "cell_type": "code",
   "execution_count": 4,
   "metadata": {},
   "outputs": [],
   "source": [
    "# Parameters for converting data into 28x28 images\n",
    "window_size = 784  # 28x28 image size\n",
    "stride = 392  # 50% overlap\n",
    "\n",
    "# Create windows\n",
    "X, y = create_windows(all_data, window_size, stride)\n",
    "\n",
    "# Reshape X into the desired 28x28 format\n",
    "X = X.reshape((X.shape[0], 28, 28, 1))\n"
   ]
  },
  {
   "cell_type": "code",
   "execution_count": 5,
   "metadata": {},
   "outputs": [],
   "source": [
    "# Encode labels as one-hot encoding\n",
    "encoder = LabelEncoder()\n",
    "y_encoded = encoder.fit_transform(y)\n",
    "Y_one_hot = to_categorical(y_encoded)\n",
    "\n",
    "# Split data into training and test sets\n",
    "X_train, X_test, y_train, y_test = train_test_split(X, Y_one_hot, test_size=0.3, random_state=42)\n"
   ]
  },
  {
   "cell_type": "code",
   "execution_count": 6,
   "metadata": {},
   "outputs": [
    {
     "name": "stdout",
     "output_type": "stream",
     "text": [
      "Dataset saved successfully.\n"
     ]
    }
   ],
   "source": [
    "# Save dataset to a .npz file\n",
    "np.savez('C:\\\\Users\\\\Efe\\\\Desktop\\\\EM28_28dataset.npz', X_train=X_train, X_test=X_test, y_train=y_train, y_test=y_test)\n",
    "print(\"Dataset saved successfully.\")\n"
   ]
  },
  {
   "cell_type": "code",
   "execution_count": 7,
   "metadata": {},
   "outputs": [
    {
     "name": "stdout",
     "output_type": "stream",
     "text": [
      "Number of training images: 23998\n",
      "Number of test images: 10286\n",
      "Number of unique labels in the training set: 8\n",
      "Number of unique labels in the test set: 8\n",
      "Unique labels in the training set: [0 1 2 3 4 5 6 7]\n",
      "Unique labels in the test set: [0 1 2 3 4 5 6 7]\n"
     ]
    }
   ],
   "source": [
    "# Count the number of images in the training and test sets\n",
    "print(f\"Number of training images: {X_train.shape[0]}\")\n",
    "print(f\"Number of test images: {X_test.shape[0]}\")\n",
    "\n",
    "# Count the number of unique labels in the training and test sets\n",
    "unique_train_labels = np.unique(np.argmax(y_train, axis=1))  # Find unique labels by decoding one-hot encoding\n",
    "unique_test_labels = np.unique(np.argmax(y_test, axis=1))\n",
    "\n",
    "print(f\"Number of unique labels in the training set: {len(unique_train_labels)}\")\n",
    "print(f\"Number of unique labels in the test set: {len(unique_test_labels)}\")\n",
    "\n",
    "print(f\"Unique labels in the training set: {unique_train_labels}\")\n",
    "print(f\"Unique labels in the test set: {unique_test_labels}\")\n"
   ]
  }
 ],
 "metadata": {
  "kernelspec": {
   "display_name": "Python 3",
   "language": "python",
   "name": "python3"
  },
  "language_info": {
   "codemirror_mode": {
    "name": "ipython",
    "version": 3
   },
   "file_extension": ".py",
   "mimetype": "text/x-python",
   "name": "python",
   "nbconvert_exporter": "python",
   "pygments_lexer": "ipython3",
   "version": "3.12.3"
  }
 },
 "nbformat": 4,
 "nbformat_minor": 2
}
