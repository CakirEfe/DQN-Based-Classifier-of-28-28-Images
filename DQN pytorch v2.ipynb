{
 "cells": [
  {
   "cell_type": "code",
   "execution_count": 1,
   "metadata": {},
   "outputs": [],
   "source": [
    "import os\n",
    "import numpy as np\n",
    "import random\n",
    "import gym\n",
    "import time\n",
    "import torch\n",
    "import torch.nn as nn\n",
    "import torch.optim as optim\n",
    "from torch.utils.data import DataLoader, TensorDataset\n",
    "from sklearn.model_selection import train_test_split\n",
    "from stable_baselines3 import DQN\n",
    "from stable_baselines3.common.vec_env import DummyVecEnv\n",
    "from stable_baselines3.common.logger import configure\n"
   ]
  },
  {
   "cell_type": "code",
   "execution_count": 2,
   "metadata": {},
   "outputs": [
    {
     "name": "stdout",
     "output_type": "stream",
     "text": [
      "Custom image dataset loaded successfully.\n",
      "Training set shape: (109708, 28, 28, 1)\n",
      "Test set shape: (27427, 28, 28, 1)\n"
     ]
    }
   ],
   "source": [
    "\n",
    "data = np.load('C:\\\\Users\\\\Efe\\\\Desktop\\\\custom_dataset.npz') #Load the custom image dataset created with RawDatato28x28 script \n",
    "X_train = data['X_train']  # Shape should be (num_samples, 28, 28, 1) \n",
    "X_test = data['X_test']\n",
    "y_train = data['y_train']  # One-hot encoded labels\n",
    "y_test = data['y_test']\n",
    "\n",
    "print(\"Custom image dataset loaded successfully.\")\n",
    "print(f\"Training set shape: {X_train.shape}\")\n",
    "print(f\"Test set shape: {X_test.shape}\")\n"
   ]
  },
  {
   "cell_type": "code",
   "execution_count": 3,
   "metadata": {},
   "outputs": [],
   "source": [
    "# Convert datasets to PyTorch tensors\n",
    "X_train_tensor = torch.tensor(X_train, dtype=torch.float32)\n",
    "X_test_tensor = torch.tensor(X_test, dtype=torch.float32)\n",
    "y_train_tensor = torch.tensor(np.argmax(y_train, axis=1), dtype=torch.long)  # Convert from one-hot to class indices\n",
    "y_test_tensor = torch.tensor(np.argmax(y_test, axis=1), dtype=torch.long)\n"
   ]
  },
  {
   "cell_type": "code",
   "execution_count": 4,
   "metadata": {},
   "outputs": [],
   "source": [
    "class CustomEnv(gym.Env):\n",
    "    def __init__(self, images_per_episode=1, dataset=(X_train_tensor, y_train_tensor), random=True):\n",
    "        super().__init__()\n",
    "\n",
    "        self.action_space = gym.spaces.Discrete(8)  # Assuming 8 unique labels\n",
    "        self.observation_space = gym.spaces.Box(low=0, high=1, shape=(28, 28, 1), dtype=np.float32)\n",
    "\n",
    "        self.images_per_episode = images_per_episode\n",
    "        self.step_count = 0\n",
    "\n",
    "        self.x, self.y = dataset\n",
    "        self.random = random\n",
    "        self.dataset_idx = 0\n",
    "\n",
    "    def step(self, action):\n",
    "        done = False\n",
    "        reward = int(action == self.expected_action)\n",
    "\n",
    "        obs = self._next_obs()\n",
    "\n",
    "        self.step_count += 1\n",
    "        if self.step_count >= self.images_per_episode:\n",
    "            done = True\n",
    "\n",
    "        return obs, reward, done, {}\n",
    "\n",
    "    def reset(self):\n",
    "        self.step_count = 0\n",
    "        obs = self._next_obs()\n",
    "        return obs\n",
    "\n",
    "    def _next_obs(self):\n",
    "        if self.random:\n",
    "            next_obs_idx = np.random.randint(0, len(self.x))\n",
    "            self.expected_action = int(self.y[next_obs_idx])  # Get the label from the tensor\n",
    "            obs = self.x[next_obs_idx].numpy()\n",
    "        else:\n",
    "            obs = self.x[self.dataset_idx].numpy()\n",
    "            self.expected_action = int(self.y[self.dataset_idx])  # Get the label from the tensor\n",
    "\n",
    "            self.dataset_idx += 1\n",
    "            if self.dataset_idx >= len(self.x):\n",
    "                self.dataset_idx = 0\n",
    "\n",
    "        return obs\n"
   ]
  },
  {
   "cell_type": "code",
   "execution_count": 5,
   "metadata": {},
   "outputs": [],
   "source": [
    "class SimpleNN(nn.Module):\n",
    "    def __init__(self, input_shape=(28, 28, 1), num_actions=8):\n",
    "        super(SimpleNN, self).__init__()\n",
    "        self.flatten = nn.Flatten()\n",
    "        self.fc1 = nn.Linear(28 * 28 * 1, 128)\n",
    "        self.fc2 = nn.Linear(128, 128)\n",
    "        self.fc3 = nn.Linear(128, num_actions)\n",
    "\n",
    "    def forward(self, x):\n",
    "        x = self.flatten(x)\n",
    "        x = torch.relu(self.fc1(x))\n",
    "        x = torch.relu(self.fc2(x))\n",
    "        x = self.fc3(x)\n",
    "        return x\n"
   ]
  },
  {
   "cell_type": "code",
   "execution_count": 6,
   "metadata": {},
   "outputs": [
    {
     "name": "stderr",
     "output_type": "stream",
     "text": [
      "c:\\Users\\Efe\\AppData\\Local\\Programs\\Python\\Python312\\Lib\\site-packages\\gym\\logger.py:30: UserWarning: \u001b[33mWARN: Box bound precision lowered by casting to float32\u001b[0m\n",
      "  warnings.warn(colorize('%s: %s'%('WARN', msg % args), 'yellow'))\n",
      "c:\\Users\\Efe\\AppData\\Local\\Programs\\Python\\Python312\\Lib\\site-packages\\stable_baselines3\\common\\vec_env\\patch_gym.py:49: UserWarning: You provided an OpenAI Gym environment. We strongly recommend transitioning to Gymnasium environments. Stable-Baselines3 is automatically wrapping your environments in a compatibility layer, which could potentially cause issues.\n",
      "  warnings.warn(\n",
      "Training DQN: 100%|██████████| 219416/219416 [31:37<00:00, 115.65step/s]\n"
     ]
    },
    {
     "name": "stdout",
     "output_type": "stream",
     "text": [
      "DQN Training Time: 1897.2116219997406\n"
     ]
    }
   ],
   "source": [
    "from tqdm import tqdm\n",
    "from stable_baselines3 import DQN\n",
    "from stable_baselines3.common.vec_env import DummyVecEnv\n",
    "from stable_baselines3.common.logger import configure\n",
    "\n",
    "# Wrapping the environment for DQN training using Stable-Baselines3\n",
    "env = DummyVecEnv([lambda: CustomEnv(images_per_episode=1)])\n",
    "\n",
    "def custom_dqn():\n",
    "    # Configure the logger for stable-baselines3\n",
    "    new_logger = configure('./logs/custom_dqn', [\"tensorboard\"])  # Keep only tensorboard logging to avoid excessive console output\n",
    "\n",
    "    # Create DQN model with Stable Baselines3 using MlpPolicy\n",
    "    model = DQN('MlpPolicy', env, verbose=0, tensorboard_log=\"./custom_dqn_tensorboard/\", learning_rate=1e-4)\n",
    "\n",
    "    # Set the logger for the model\n",
    "    model.set_logger(new_logger)\n",
    "\n",
    "    start_time = time.time()\n",
    "\n",
    "    # Initialize tqdm progress bar\n",
    "    total_timesteps = int(219416)  # Adjust the total timesteps as needed, this one goes through each training image twice as there were initially 109708 training images\n",
    "    with tqdm(total=total_timesteps, desc=\"Training DQN\", unit=\"step\") as pbar:\n",
    "        # Override the model.learn() method to manually update the progress bar\n",
    "        for _ in range(total_timesteps):\n",
    "            model.learn(total_timesteps=1, reset_num_timesteps=False)\n",
    "            pbar.update(1)  # Update progress bar by 1 step\n",
    "\n",
    "    print(\"DQN Training Time:\", time.time() - start_time)\n",
    "\n",
    "    # Save the model’s policy and parameters\n",
    "    model.policy.save('custom_dqn_policy')\n",
    "    model.save_replay_buffer('custom_dqn_replay_buffer')\n",
    "\n",
    "    # Close the environment\n",
    "    env.close()\n",
    "\n",
    "    return model\n",
    "\n",
    "# Train the DQN model with the custom dataset\n",
    "dqn_model = custom_dqn()\n"
   ]
  },
  {
   "cell_type": "markdown",
   "metadata": {},
   "source": [
    "Took me around 30 minutes to train and save the DQN. I have no idea how to reduce the training time.\n",
    "\n",
    "I initially tested this with MNIST handwritten numbers dataset. It has 60000 training samples in the same format as this one. It needed 4 times less epochs as this to reach an accuracy above 90% and plateau (which took like 6 mins.) "
   ]
  },
  {
   "cell_type": "code",
   "execution_count": 7,
   "metadata": {},
   "outputs": [
    {
     "name": "stdout",
     "output_type": "stream",
     "text": [
      "Validation done...\n",
      "Accuracy: 94.0%\n"
     ]
    },
    {
     "name": "stderr",
     "output_type": "stream",
     "text": [
      "c:\\Users\\Efe\\AppData\\Local\\Programs\\Python\\Python312\\Lib\\site-packages\\gym\\logger.py:30: UserWarning: \u001b[33mWARN: Box bound precision lowered by casting to float32\u001b[0m\n",
      "  warnings.warn(colorize('%s: %s'%('WARN', msg % args), 'yellow'))\n",
      "c:\\Users\\Efe\\AppData\\Local\\Programs\\Python\\Python312\\Lib\\site-packages\\stable_baselines3\\common\\vec_env\\patch_gym.py:49: UserWarning: You provided an OpenAI Gym environment. We strongly recommend transitioning to Gymnasium environments. Stable-Baselines3 is automatically wrapping your environments in a compatibility layer, which could potentially cause issues.\n",
      "  warnings.warn(\n"
     ]
    }
   ],
   "source": [
    "def custom_dqn_eval(dqn_model):\n",
    "    eval_env = DummyVecEnv([lambda: CustomEnv(images_per_episode=1, dataset=(X_test_tensor, y_test_tensor), random=False)])\n",
    "\n",
    "    attempts, correct = 0, 0\n",
    "\n",
    "    for _ in range(100):  # Evaluate on 100 episodes\n",
    "        obs = eval_env.reset()\n",
    "        done = False\n",
    "        while not done:\n",
    "            action, _states = dqn_model.predict(obs)\n",
    "            obs, reward, done, _ = eval_env.step(action)\n",
    "            attempts += 1\n",
    "            if reward > 0:\n",
    "                correct += 1\n",
    "\n",
    "    accuracy = (float(correct) / attempts) * 100\n",
    "    print(f'Validation done...\\nAccuracy: {accuracy}%')\n",
    "\n",
    "# Evaluate the DQN model on the test set\n",
    "custom_dqn_eval(dqn_model)\n"
   ]
  }
 ],
 "metadata": {
  "kernelspec": {
   "display_name": "Python 3",
   "language": "python",
   "name": "python3"
  },
  "language_info": {
   "codemirror_mode": {
    "name": "ipython",
    "version": 3
   },
   "file_extension": ".py",
   "mimetype": "text/x-python",
   "name": "python",
   "nbconvert_exporter": "python",
   "pygments_lexer": "ipython3",
   "version": "3.12.3"
  }
 },
 "nbformat": 4,
 "nbformat_minor": 2
}
